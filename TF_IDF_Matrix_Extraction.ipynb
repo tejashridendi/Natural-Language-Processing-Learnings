{
  "nbformat": 4,
  "nbformat_minor": 0,
  "metadata": {
    "colab": {
      "provenance": []
    },
    "kernelspec": {
      "name": "python3",
      "display_name": "Python 3"
    },
    "language_info": {
      "name": "python"
    }
  },
  "cells": [
    {
      "cell_type": "markdown",
      "source": [
        "**TF-IDF Matrix Extraction**\n",
        "\n",
        "\n",
        "\n",
        "\n"
      ],
      "metadata": {
        "id": "lbSLPUuMW1uP"
      }
    },
    {
      "cell_type": "markdown",
      "source": [
        "*TF_IDF for the given text*"
      ],
      "metadata": {
        "id": "8ats-WLCd1cx"
      }
    },
    {
      "cell_type": "markdown",
      "source": [
        "*'Dancing is a hobby for many , passion for some',\n",
        "                'My hobby is coin collection'\n",
        "                'I do some Dancing every now and then'*"
      ],
      "metadata": {
        "id": "A-nkwvkjwL0S"
      }
    },
    {
      "cell_type": "markdown",
      "source": [
        "# Importing required modules"
      ],
      "metadata": {
        "id": "JtSkDwYuvyYu"
      }
    },
    {
      "cell_type": "code",
      "source": [
        "# Using sklearn's TfidfVectorizer\n",
        "from sklearn.feature_extraction.text import TfidfVectorizer"
      ],
      "metadata": {
        "id": "JHkgEfvivtu8"
      },
      "execution_count": null,
      "outputs": []
    },
    {
      "cell_type": "markdown",
      "source": [
        "# Input text\n"
      ],
      "metadata": {
        "id": "xQYl2WvvwYUh"
      }
    },
    {
      "cell_type": "code",
      "source": [
        "text_documents=['Dancing is a hobby for many , passion for some',\n",
        "                'My hobby is coin collection'\n",
        "                'I do some Dancing every now and then']"
      ],
      "metadata": {
        "id": "geGcM-DpwFpJ"
      },
      "execution_count": null,
      "outputs": []
    },
    {
      "cell_type": "markdown",
      "source": [
        "# Fit the vectorizer to our text documents"
      ],
      "metadata": {
        "id": "nk2swerCwlzd"
      }
    },
    {
      "cell_type": "code",
      "source": [
        "vectorizer = TfidfVectorizer()\n",
        "matrix = vectorizer.fit_transform(text_documents)"
      ],
      "metadata": {
        "id": "q_ooPWrywylf"
      },
      "execution_count": null,
      "outputs": []
    },
    {
      "cell_type": "markdown",
      "source": [
        "# Result\n"
      ],
      "metadata": {
        "id": "QP-XvkVew0H5"
      }
    },
    {
      "cell_type": "code",
      "source": [
        " print(matrix)"
      ],
      "metadata": {
        "colab": {
          "base_uri": "https://localhost:8080/"
        },
        "id": "1TI_p8Pho__U",
        "outputId": "ee7c3e37-fb72-41d9-9263-4d31136edf50"
      },
      "execution_count": null,
      "outputs": [
        {
          "output_type": "stream",
          "name": "stdout",
          "text": [
            "  (0, 13)\t0.2511643891128359\n",
            "  (0, 12)\t0.35300278529739293\n",
            "  (0, 9)\t0.35300278529739293\n",
            "  (0, 6)\t0.7060055705947859\n",
            "  (0, 7)\t0.2511643891128359\n",
            "  (0, 8)\t0.2511643891128359\n",
            "  (0, 3)\t0.2511643891128359\n",
            "  (1, 14)\t0.31583360086881224\n",
            "  (1, 0)\t0.31583360086881224\n",
            "  (1, 11)\t0.31583360086881224\n",
            "  (1, 5)\t0.31583360086881224\n",
            "  (1, 4)\t0.31583360086881224\n",
            "  (1, 2)\t0.31583360086881224\n",
            "  (1, 1)\t0.31583360086881224\n",
            "  (1, 10)\t0.31583360086881224\n",
            "  (1, 13)\t0.22471820826199104\n",
            "  (1, 7)\t0.22471820826199104\n",
            "  (1, 8)\t0.22471820826199104\n",
            "  (1, 3)\t0.22471820826199104\n"
          ]
        }
      ]
    },
    {
      "cell_type": "code",
      "source": [],
      "metadata": {
        "id": "gnNK5t3hXDYc"
      },
      "execution_count": null,
      "outputs": []
    }
  ]
}