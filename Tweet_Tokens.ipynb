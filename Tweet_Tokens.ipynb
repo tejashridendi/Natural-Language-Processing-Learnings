{
  "nbformat": 4,
  "nbformat_minor": 0,
  "metadata": {
    "colab": {
      "provenance": []
    },
    "kernelspec": {
      "name": "python3",
      "display_name": "Python 3"
    },
    "language_info": {
      "name": "python"
    }
  },
  "cells": [
    {
      "cell_type": "markdown",
      "source": [
        "\n",
        "\n",
        "# Tokenize Tweets\n",
        "**Clean the following tweet and tokenize them.**\n",
        "\n",
        "*Input:*\n",
        "\n",
        "text=\" Having lots of fun #goa #vaction #summervacation. Fancy dinner @Beachbay restro :) \"\n",
        "\n"
      ],
      "metadata": {
        "id": "xLVkmhDrMgut"
      }
    },
    {
      "cell_type": "code",
      "source": [
        "import nltk\n",
        "nltk.download(\"stopwords\")"
      ],
      "metadata": {
        "id": "41ZfN4hcMrVm",
        "colab": {
          "base_uri": "https://localhost:8080/"
        },
        "outputId": "2017526f-47cb-4ed0-a8e4-c4030f40621f"
      },
      "execution_count": 1,
      "outputs": [
        {
          "output_type": "stream",
          "name": "stderr",
          "text": [
            "[nltk_data] Downloading package stopwords to /root/nltk_data...\n",
            "[nltk_data]   Unzipping corpora/stopwords.zip.\n"
          ]
        },
        {
          "output_type": "execute_result",
          "data": {
            "text/plain": [
              "True"
            ]
          },
          "metadata": {},
          "execution_count": 1
        }
      ]
    },
    {
      "cell_type": "code",
      "source": [
        "import nltk\n",
        "import string\n",
        "import re\n",
        "stopword = nltk.corpus.stopwords.words('english')\n",
        "ps = nltk.PorterStemmer()\n",
        "wn = nltk.WordNetLemmatizer()\n",
        "text=\" Having lots of fun #goa #vaction #summervacation. Fancy dinner @Beachbay restro :) \"\n",
        "text  = \"\".join([char for char in text if char not in string.punctuation])\n",
        "tokens = re.split('\\W+', text)    # tokenization\n",
        "words_filtered = list(filter(lambda a: a not in [''], tokens))\n",
        "words_filtered"
      ],
      "metadata": {
        "id": "9uNKg68vMyAn",
        "colab": {
          "base_uri": "https://localhost:8080/"
        },
        "outputId": "19fa1d82-87e1-4e07-9fd2-fd8319391abb"
      },
      "execution_count": 2,
      "outputs": [
        {
          "output_type": "execute_result",
          "data": {
            "text/plain": [
              "['Having',\n",
              " 'lots',\n",
              " 'of',\n",
              " 'fun',\n",
              " 'goa',\n",
              " 'vaction',\n",
              " 'summervacation',\n",
              " 'Fancy',\n",
              " 'dinner',\n",
              " 'Beachbay',\n",
              " 'restro']"
            ]
          },
          "metadata": {},
          "execution_count": 2
        }
      ]
    }
  ]
}