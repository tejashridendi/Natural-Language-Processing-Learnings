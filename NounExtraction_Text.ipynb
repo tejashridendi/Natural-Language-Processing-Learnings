{
  "nbformat": 4,
  "nbformat_minor": 0,
  "metadata": {
    "colab": {
      "provenance": []
    },
    "kernelspec": {
      "name": "python3",
      "display_name": "Python 3"
    },
    "language_info": {
      "name": "python"
    }
  },
  "cells": [
    {
      "cell_type": "markdown",
      "source": [
        "\n",
        "\n",
        "# **Extracting Nouns**\n",
        "**Extract and print all the nouns present in the below text**\n",
        "\n",
        "Input:\n",
        "\n",
        "text=\"James works at Microsoft. She lives in manchester and likes to play the flute\""
      ],
      "metadata": {
        "id": "FnG8s_rmsOCy"
      }
    },
    {
      "cell_type": "code",
      "source": [
        "import nltk\n",
        "nltk.download('punkt')"
      ],
      "metadata": {
        "colab": {
          "base_uri": "https://localhost:8080/"
        },
        "id": "Os32Mrdrsfpc",
        "outputId": "9129de5a-44ee-485d-b51e-57b361465e0b"
      },
      "execution_count": 2,
      "outputs": [
        {
          "output_type": "stream",
          "name": "stderr",
          "text": [
            "[nltk_data] Downloading package punkt to /root/nltk_data...\n",
            "[nltk_data]   Unzipping tokenizers/punkt.zip.\n"
          ]
        },
        {
          "output_type": "execute_result",
          "data": {
            "text/plain": [
              "True"
            ]
          },
          "metadata": {},
          "execution_count": 2
        }
      ]
    },
    {
      "cell_type": "code",
      "source": [
        "import nltk\n",
        "nltk.download('averaged_perceptron_tagger')\n"
      ],
      "metadata": {
        "id": "1ewcQufgsuqM"
      },
      "execution_count": null,
      "outputs": []
    },
    {
      "cell_type": "code",
      "source": [
        "text=\"James works at Microsoft. She lives in manchester and likes to play the flute\"\n"
      ],
      "metadata": {
        "id": "ewO64ooQsyQU"
      },
      "execution_count": null,
      "outputs": []
    },
    {
      "cell_type": "markdown",
      "source": [
        "*# function to test if something is a noun*"
      ],
      "metadata": {
        "id": "vdPAM8Sds6R8"
      }
    },
    {
      "cell_type": "code",
      "source": [
        "\n",
        "is_noun = lambda pos: pos[:2] == 'NN'\n"
      ],
      "metadata": {
        "id": "N-r_NS0cs3zc"
      },
      "execution_count": null,
      "outputs": []
    },
    {
      "cell_type": "markdown",
      "source": [
        "*tokenize the text*"
      ],
      "metadata": {
        "id": "kDN48IzBtEKK"
      }
    },
    {
      "cell_type": "code",
      "source": [
        "\n",
        "tokenized = nltk.word_tokenize(text)\n"
      ],
      "metadata": {
        "id": "8dZPlSqStAKP"
      },
      "execution_count": null,
      "outputs": []
    },
    {
      "cell_type": "markdown",
      "source": [
        "extract nouns"
      ],
      "metadata": {
        "id": "hvNDBDS-tNEP"
      }
    },
    {
      "cell_type": "code",
      "source": [
        "nouns = [word for (word, pos) in nltk.pos_tag(tokenized) if is_noun(pos)]"
      ],
      "metadata": {
        "id": "8Ywh6iZdtMMn"
      },
      "execution_count": null,
      "outputs": []
    },
    {
      "cell_type": "markdown",
      "source": [
        "print the extracted nouns from the given text"
      ],
      "metadata": {
        "id": "EapUyvOMtUv1"
      }
    },
    {
      "cell_type": "code",
      "source": [
        "\n",
        "\n",
        "print( nouns)"
      ],
      "metadata": {
        "id": "gD-N9D9SsVZk",
        "colab": {
          "base_uri": "https://localhost:8080/"
        },
        "outputId": "a47d574e-d66c-47f9-b7d8-8bf482c743ea"
      },
      "execution_count": 3,
      "outputs": [
        {
          "output_type": "stream",
          "name": "stdout",
          "text": [
            "['James', 'Microsoft', 'manchester', 'likes', 'flute']\n"
          ]
        },
        {
          "output_type": "stream",
          "name": "stderr",
          "text": [
            "[nltk_data] Downloading package averaged_perceptron_tagger to\n",
            "[nltk_data]     /root/nltk_data...\n",
            "[nltk_data]   Package averaged_perceptron_tagger is already up-to-\n",
            "[nltk_data]       date!\n"
          ]
        }
      ]
    }
  ]
}